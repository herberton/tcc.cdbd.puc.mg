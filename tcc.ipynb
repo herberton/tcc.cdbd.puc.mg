{
 "cells": [
  {
   "cell_type": "code",
   "execution_count": 6,
   "metadata": {},
   "outputs": [],
   "source": [
    "from google.cloud import bigquery\n",
    "import pandas as pd"
   ]
  },
  {
   "cell_type": "code",
   "execution_count": 7,
   "metadata": {},
   "outputs": [
    {
     "data": {
      "text/plain": [
       "['is_male',\n",
       " 'child_race',\n",
       " 'weight_pounds',\n",
       " 'plurality',\n",
       " 'mother_race',\n",
       " 'mother_age',\n",
       " 'gestation_weeks',\n",
       " 'mother_married',\n",
       " 'cigarette_use',\n",
       " 'cigarettes_per_day',\n",
       " 'alcohol_use',\n",
       " 'drinks_per_week',\n",
       " 'weight_gain_pounds',\n",
       " 'born_alive_alive',\n",
       " 'born_alive_dead',\n",
       " 'ever_born',\n",
       " 'father_race',\n",
       " 'father_age',\n",
       " 'y']"
      ]
     },
     "execution_count": 7,
     "metadata": {},
     "output_type": "execute_result"
    }
   ],
   "source": [
    "project_id = 'tcc-puc-mg-2019'\n",
    "train_percent=0.25\n",
    "table_name='tcc-puc-mg-2019.book.natality'\n",
    "col_names = '''\n",
    "    is_male,child_race,weight_pounds,plurality,mother_race,\n",
    "    mother_age,gestation_weeks,mother_married,cigarette_use,\n",
    "    cigarettes_per_day,alcohol_use,drinks_per_week,weight_gain_pounds,\n",
    "    born_alive_alive,born_alive_dead,ever_born,father_race,father_age,y\n",
    "'''\n",
    "col_names_array = [x.strip() for x in col_names.split(',')]\n",
    "col_names_array"
   ]
  },
  {
   "cell_type": "code",
   "execution_count": 8,
   "metadata": {},
   "outputs": [],
   "source": [
    "client = bigquery.Client(project=project_id)"
   ]
  },
  {
   "cell_type": "code",
   "execution_count": 9,
   "metadata": {},
   "outputs": [
    {
     "data": {
      "text/plain": [
       "(4633334, 4633334)"
      ]
     },
     "execution_count": 9,
     "metadata": {},
     "output_type": "execute_result"
    }
   ],
   "source": [
    "job_config = bigquery.QueryJobConfig()\n",
    "job_config.query_parameters = [ \n",
    "    bigquery.ScalarQueryParameter(\"train_percent\", \"FLOAT\", train_percent)\n",
    "]\n",
    "df = client.query('''\n",
    "    SELECT \n",
    "        SAFE_CAST(((COUNT(1) * @train_percent) / 2) AS INT64) AS train_size_0,\n",
    "        SAFE_CAST(((COUNT(1) * @train_percent) / 2) AS INT64) AS train_size_1\n",
    "    FROM \n",
    "        `''' + table_name + '''`\n",
    "''',\n",
    "location='US',\n",
    "job_config=job_config\n",
    ").to_dataframe()\n",
    "\n",
    "train_size_0 = int(df.iloc[0]['train_size_0'])\n",
    "train_size_1 = int(df.iloc[0]['train_size_1'])\n",
    "\n",
    "train_size_0, train_size_1"
   ]
  },
  {
   "cell_type": "code",
   "execution_count": 10,
   "metadata": {},
   "outputs": [
    {
     "data": {
      "text/plain": [
       "is_male                 int64\n",
       "child_race              int64\n",
       "weight_pounds         float64\n",
       "plurality               int64\n",
       "mother_race             int64\n",
       "mother_age              int64\n",
       "gestation_weeks         int64\n",
       "mother_married          int64\n",
       "cigarette_use           int64\n",
       "cigarettes_per_day      int64\n",
       "alcohol_use             int64\n",
       "drinks_per_week         int64\n",
       "weight_gain_pounds    float64\n",
       "born_alive_alive        int64\n",
       "born_alive_dead         int64\n",
       "ever_born               int64\n",
       "father_race             int64\n",
       "father_age              int64\n",
       "y                       int64\n",
       "dtype: object"
      ]
     },
     "execution_count": 10,
     "metadata": {},
     "output_type": "execute_result"
    }
   ],
   "source": [
    "job_config = bigquery.QueryJobConfig()\n",
    "job_config.query_parameters = [ \n",
    "    bigquery.ScalarQueryParameter(\"train_size_0\", \"INT64\", train_size_0),\n",
    "    bigquery.ScalarQueryParameter(\"train_size_1\", \"INT64\", train_size_1)\n",
    "]\n",
    "\n",
    "df = client.query('''\n",
    "        SELECT *\n",
    "        FROM (  SELECT ''' + col_names + ''' \n",
    "                FROM `''' + table_name + '''` \n",
    "                WHERE y = 0\n",
    "                LIMIT @train_size_0 )\n",
    "    UNION ALL\n",
    "        SELECT *\n",
    "        FROM (  SELECT ''' + col_names + ''' \n",
    "                FROM `''' + table_name + '''` \n",
    "                WHERE y = 1\n",
    "                LIMIT @train_size_1 )\n",
    "''',\n",
    "location='US',\n",
    "job_config=job_config\n",
    ").to_dataframe()\n",
    "\n",
    "df.dtypes"
   ]
  },
  {
   "cell_type": "code",
   "execution_count": 11,
   "metadata": {},
   "outputs": [
    {
     "data": {
      "text/plain": [
       "'y'"
      ]
     },
     "execution_count": 11,
     "metadata": {},
     "output_type": "execute_result"
    }
   ],
   "source": [
    "X = df[col_names_array[:-1]] # Features\n",
    "y = df[col_names_array[-1]] # Target variable\n",
    "\n",
    "# split X and y into training and testing sets\n",
    "from sklearn.model_selection import train_test_split\n",
    "X_train,X_test,y_train,y_test=train_test_split(X,y,test_size=0.25,random_state=0)\n",
    "col_names_array[-1]"
   ]
  },
  {
   "cell_type": "code",
   "execution_count": 12,
   "metadata": {},
   "outputs": [
    {
     "data": {
      "text/plain": [
       "LogisticRegression(C=1.0, class_weight=None, dual=False, fit_intercept=True,\n",
       "          intercept_scaling=1, max_iter=100, multi_class='ovr', n_jobs=1,\n",
       "          penalty='l2', random_state=None, solver='liblinear', tol=0.0001,\n",
       "          verbose=0, warm_start=False)"
      ]
     },
     "execution_count": 12,
     "metadata": {},
     "output_type": "execute_result"
    }
   ],
   "source": [
    "# import the class\n",
    "from sklearn.linear_model import LogisticRegression\n",
    "\n",
    "# instantiate the model (using the default parameters)\n",
    "logreg = LogisticRegression()\n",
    "\n",
    "# fit the model with data\n",
    "logreg.fit(X_train,y_train)\n",
    "\n",
    "#\n",
    "y_pred=logreg.predict(X_test)\n",
    "\n",
    "logreg"
   ]
  },
  {
   "cell_type": "code",
   "execution_count": 14,
   "metadata": {},
   "outputs": [
    {
     "data": {
      "text/plain": [
       "array([[1145516,   12152],\n",
       "       [   1586, 1157413]])"
      ]
     },
     "execution_count": 14,
     "metadata": {},
     "output_type": "execute_result"
    }
   ],
   "source": [
    "# import the metrics class\n",
    "from sklearn import metrics\n",
    "cnf_matrix = metrics.confusion_matrix(y_test, y_pred)\n",
    "cnf_matrix"
   ]
  },
  {
   "cell_type": "code",
   "execution_count": 15,
   "metadata": {},
   "outputs": [
    {
     "data": {
      "text/plain": [
       "Text(0.5, 257.44, 'Predicted label')"
      ]
     },
     "execution_count": 15,
     "metadata": {},
     "output_type": "execute_result"
    },
    {
     "data": {
      "image/png": "[encoded data removed]",
      "text/plain": [
       "<Figure size 432x288 with 2 Axes>"
      ]
     },
     "metadata": {
      "needs_background": "light"
     },
     "output_type": "display_data"
    }
   ],
   "source": [
    "import numpy as np\n",
    "import matplotlib.pyplot as plt\n",
    "import seaborn as sns\n",
    "%matplotlib inline\n",
    "\n",
    "class_names=[0,1] # name  of classes\n",
    "fig, ax = plt.subplots()\n",
    "tick_marks = np.arange(len(class_names))\n",
    "plt.xticks(tick_marks, class_names)\n",
    "plt.yticks(tick_marks, class_names)\n",
    "\n",
    "# create heatmap\n",
    "sns.heatmap(pd.DataFrame(cnf_matrix), annot=True, cmap=\"YlGnBu\" ,fmt='g')\n",
    "ax.xaxis.set_label_position(\"top\")\n",
    "plt.tight_layout()\n",
    "plt.title('Confusion matrix', y=1.1)\n",
    "plt.ylabel('Actual label')\n",
    "plt.xlabel('Predicted label')"
   ]
  },
  {
   "cell_type": "code",
   "execution_count": 16,
   "metadata": {},
   "outputs": [
    {
     "name": "stdout",
     "output_type": "stream",
     "text": [
      "Accuracy: 0.9940699289108016\n",
      "Precision: 0.9896098121951323\n",
      "Recall: 0.9986315777666762\n"
     ]
    }
   ],
   "source": [
    "print(\"Accuracy:\",metrics.accuracy_score(y_test, y_pred))\n",
    "print(\"Precision:\",metrics.precision_score(y_test, y_pred))\n",
    "print(\"Recall:\",metrics.recall_score(y_test, y_pred))"
   ]
  },
  {
   "cell_type": "code",
   "execution_count": 17,
   "metadata": {},
   "outputs": [
    {
     "data": {
      "image/png": "[encoded data removed]",
      "text/plain": [
       "<Figure size 432x288 with 1 Axes>"
      ]
     },
     "metadata": {
      "needs_background": "light"
     },
     "output_type": "display_data"
    }
   ],
   "source": [
    "y_pred_proba = logreg.predict_proba(X_test)[::,1]\n",
    "fpr, tpr, _ = metrics.roc_curve(y_test,  y_pred_proba)\n",
    "auc = metrics.roc_auc_score(y_test, y_pred_proba)\n",
    "plt.plot(fpr,tpr,label=\"data 1, auc=\"+str(auc))\n",
    "plt.legend(loc=4)\n",
    "plt.show()"
   ]
  },
  {
   "cell_type": "markdown",
   "metadata": {},
   "source": [
    "##### "
   ]
  }
 ],
 "metadata": {
  "kernelspec": {
   "display_name": "Python 3",
   "language": "python",
   "name": "python3"
  },
  "language_info": {
   "codemirror_mode": {
    "name": "ipython",
    "version": 3
   },
   "file_extension": ".py",
   "mimetype": "text/x-python",
   "name": "python",
   "nbconvert_exporter": "python",
   "pygments_lexer": "ipython3",
   "version": "3.5.3"
  }
 },
 "nbformat": 4,
 "nbformat_minor": 4
}
